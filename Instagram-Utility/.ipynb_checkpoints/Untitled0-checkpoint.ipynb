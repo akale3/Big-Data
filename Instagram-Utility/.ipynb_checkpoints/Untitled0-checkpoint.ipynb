{
 "metadata": {
  "name": ""
 },
 "nbformat": 3,
 "nbformat_minor": 0,
 "worksheets": [
  {
   "cells": [
    {
     "cell_type": "code",
     "collapsed": false,
     "input": [
      "print \"hello\""
     ],
     "language": "python",
     "metadata": {},
     "outputs": [
      {
       "output_type": "stream",
       "stream": "stdout",
       "text": [
        "hello\n"
       ]
      }
     ],
     "prompt_number": 2
    },
    {
     "cell_type": "code",
     "collapsed": false,
     "input": [
      "# Imports\n",
      "from instagram.client import InstagramAPI\n",
      "from collections import Counter\n",
      "import ConfigParser\n",
      "import sys\n",
      "import time\n",
      "\n"
     ],
     "language": "python",
     "metadata": {},
     "outputs": [],
     "prompt_number": 6
    },
    {
     "cell_type": "code",
     "collapsed": false,
     "input": [
      "def read_cities(filename):\n",
      "    cities = {}\n",
      "    c_file = open(filename,'r')\n",
      "    for num, city in enumerate(c_file):\n",
      "        c,lat,lng=city.rstrip().split(\",\")\n",
      "       \n",
      "       \n",
      "        cities.update({c:[lat,lng]})\n",
      "   \n",
      "       \n",
      "    c_file.close() # clean up\n",
      "   \n",
      "    return cities\n",
      "cities=read_cities(\"city_mapping.txt\")"
     ],
     "language": "python",
     "metadata": {},
     "outputs": [],
     "prompt_number": 7
    },
    {
     "cell_type": "code",
     "collapsed": false,
     "input": [
      "#establish connection to instagram API\n",
      "def get_insta(config_file):\n",
      "  \n",
      "    config = ConfigParser.ConfigParser()\n",
      "    config.read(config_file)\n",
      "    api = InstagramAPI(config.get('insta', 'client_key'),config.get('insta', 'client_secret'))\n",
      "   \n",
      "\n",
      "    api = InstagramAPI(access_token=\"2219660778.1677ed0.24045b3fe4df41d8b74d8ce7318ebbe1\")\n",
      "    return api\n",
      "\n",
      "insta = get_insta('twitter.cfg')\n",
      "\n",
      "print('Established insta connection.')"
     ],
     "language": "python",
     "metadata": {},
     "outputs": [
      {
       "output_type": "stream",
       "stream": "stdout",
       "text": [
        "Established insta connection.\n"
       ]
      }
     ],
     "prompt_number": 8
    },
    {
     "cell_type": "code",
     "collapsed": false,
     "input": [
      "def get_media_by_location(idz):\n",
      "    \"\"\" Read a list of usernames for U.S. presedential candidates\n",
      "    Args:\n",
      "      filename: The name of the text file containing in format:\n",
      "         <twitter handle> <R or D for Republican or Democrat>\n",
      "    Returns:\n",
      "      A list of (string, string) tuples representing each (handle, party) pair.\n",
      "    \"\"\"\n",
      "    recent_media, next = insta.location_recent_media(location_id=idz, count=100)\n",
      "    return recent_media"
     ],
     "language": "python",
     "metadata": {},
     "outputs": [],
     "prompt_number": 9
    },
    {
     "cell_type": "code",
     "collapsed": false,
     "input": [
      "#search for loction ids within 50000 radius of lat,lng of each city.\n",
      "#create dictionary with {city:[county:id]} pairs.\n",
      "#note : we need to write location ids into a file immediately(havent coded the write snippet for this)\n",
      "import json\n",
      "import urllib\n",
      "import os, sys\n",
      "from time import gmtime, strftime\n",
      "\n",
      "saveData={}\n",
      "\n",
      "def location_search():\n",
      "    loc_ids={}\n",
      "    city_name_id_map={}\n",
      "    cities=read_cities(\"city_mapping.txt\")\n",
      "    x=0\n",
      "   \n",
      "    newpath=''\n",
      "    media={}\n",
      "    for city,values in cities.iteritems():\n",
      "     \n",
      "        newpath = r'/home/aditya/Instagram-Utility/'+city+'_'+strftime(\"%Y%m%d%H%M%S\", gmtime())\n",
      "        if not os.path.exists(newpath):\n",
      "            os.makedirs(newpath)\n",
      "          \n",
      "      \n",
      "        location_search = insta.location_search(lat=values[0],lng=values[1],distance=5)\n",
      "       \n",
      "        tag_search, next_tag = insta.tag_search(q=\"nature\", count=10)\n",
      "        for tagg in tag_search:\n",
      "            tag_recent_media, next = insta.tag_recent_media(tag_name=tagg.name, count=100)\n",
      "            for tag_media in tag_recent_media:\n",
      "                urllib.urlretrieve(tag_media.get_standard_resolution_url(), newpath+\"/image\"+str(x)+\".jpg\")\n",
      "                x=x+1\n",
      "        '''\n",
      "        city_name_id_map.update({city:[]})\n",
      "         for location in location_search:       \n",
      "            loc_ids.update({location.id:[]})         \n",
      "            city_name_id_map[city].append((location.name,location.id))\n",
      "            #print location.id\n",
      "          \n",
      "            try:\n",
      "                media = get_media_by_location(location.id)\n",
      "            except:\n",
      "                print \"Error occured!\"\n",
      "          \n",
      "            for i in range(1,len(media)):             \n",
      "                loc_ids[location.id].append(media[i].user)\n",
      "                loc_ids[location.id].append(media[i].images['low_resolution'])\n",
      "                loc_ids[location.id].append(values)\n",
      "                print str(media[i].images['low_resolution']).split(':')[2]\n",
      "                urllib.urlretrieve(\"http:\"+str(media[i].images['low_resolution']).split(':')[2], newpath+\"/image\"+str(x)+\".jpg\")\n",
      "                x=x+1\n",
      "        '''                     \n",
      "    return loc_ids\n",
      "loc = location_search()"
     ],
     "language": "python",
     "metadata": {},
     "outputs": [],
     "prompt_number": "*"
    },
    {
     "cell_type": "code",
     "collapsed": false,
     "input": [],
     "language": "python",
     "metadata": {},
     "outputs": []
    }
   ],
   "metadata": {}
  }
 ]
}